{
 "cells": [
  {
   "cell_type": "code",
   "execution_count": 1,
   "id": "68dbd7a9",
   "metadata": {},
   "outputs": [],
   "source": [
    "import numpy as np\n",
    "import tensorflow as tf\n",
    "import os\n",
    "import matplotlib.pyplot as plt\n",
    "import cv2 # comment out in local notebook\n",
    "\n",
    "from sklearn.model_selection import cross_val_predict\n",
    "from sklearn import metrics\n",
    "\n",
    "# Import statements\n",
    "\n",
    "import tensorflow as tf\n",
    "from tensorflow import keras\n",
    "from tensorflow.keras import layers\n",
    "\n",
    "\n",
    "from tensorflow.keras.layers import Dense, Dropout, Flatten, Conv2D, MaxPooling2D, BatchNormalization, Activation"
   ]
  },
  {
   "cell_type": "code",
   "execution_count": 2,
   "id": "67f072ab",
   "metadata": {},
   "outputs": [],
   "source": [
    "# LOAD MODEL HERE\n",
    "new_model = tf.keras.models.load_model(\"models/inception_kfold4.h5\")"
   ]
  },
  {
   "cell_type": "code",
   "execution_count": 3,
   "id": "174b587a",
   "metadata": {},
   "outputs": [],
   "source": [
    "path = \"haarcascade_frontalface_default.xml\"\n",
    "font_scale = 1.5\n",
    "font = cv2.FONT_HERSHEY_PLAIN"
   ]
  },
  {
   "cell_type": "code",
   "execution_count": 4,
   "id": "6ff4fdf2",
   "metadata": {},
   "outputs": [],
   "source": [
    "rectangle_bgr = (255,255,255)\n",
    "img = np.zeros((500,500))\n",
    "text = \"SOME TEXT\"\n",
    "\n",
    "(text_width, text_height) = cv2.getTextSize(text, font, fontScale=font_scale, thickness=1)[0]\n",
    "text_offset_x = 10\n",
    "text_offset_y = img.shape[0]-25"
   ]
  },
  {
   "cell_type": "code",
   "execution_count": 5,
   "id": "e4da8e02",
   "metadata": {},
   "outputs": [
    {
     "data": {
      "text/plain": [
       "array([[0., 0., 0., ..., 0., 0., 0.],\n",
       "       [0., 0., 0., ..., 0., 0., 0.],\n",
       "       [0., 0., 0., ..., 0., 0., 0.],\n",
       "       ...,\n",
       "       [0., 0., 0., ..., 0., 0., 0.],\n",
       "       [0., 0., 0., ..., 0., 0., 0.],\n",
       "       [0., 0., 0., ..., 0., 0., 0.]])"
      ]
     },
     "execution_count": 5,
     "metadata": {},
     "output_type": "execute_result"
    }
   ],
   "source": [
    "box_coords = ((text_offset_x, text_offset_y), (text_offset_x + text_width + 2, text_offset_y - text_height - 2))\n",
    "cv2.rectangle(img, box_coords[0], box_coords[1], rectangle_bgr, cv2.FILLED)\n",
    "cv2.putText(img, text, (text_offset_x, text_offset_y), font, fontScale=font_scale, color=(0,0,0), thickness=1)"
   ]
  },
  {
   "cell_type": "code",
   "execution_count": null,
   "id": "16fe429f",
   "metadata": {
    "scrolled": false
   },
   "outputs": [
    {
     "name": "stdout",
     "output_type": "stream",
     "text": [
      "Face not detected\n",
      "Face not detected\n",
      "Face not detected\n"
     ]
    }
   ],
   "source": [
    "cap = cv2.VideoCapture(0)\n",
    "if not cap.isOpened:\n",
    "    cap = cv2.VideoCapture(0)\n",
    "if not cap.isOpened:\n",
    "    raise IOError(\"Cannot open webcam\")\n",
    "    \n",
    "    \n",
    "while True:\n",
    "    ret, frame = cap.read()\n",
    "    faceCascade = cv2.CascadeClassifier(cv2.data.haarcascades + 'haarcascade_frontalface_default.xml')\n",
    "    gray = cv2.cvtColor(frame, cv2.COLOR_BGR2GRAY)\n",
    "    faces = faceCascade.detectMultiScale(gray,1.1,4)\n",
    "\n",
    "    for x,y,w,h in faces:\n",
    "        roi_gray = gray[y:y+h, x:x+w]\n",
    "        roi_color = frame[y:y+h, x:x+w]\n",
    "        cv2.rectangle(frame, (x,y), (x+w, y+h), (255,0,0), 2)\n",
    "        facess = faceCascade.detectMultiScale(roi_gray)\n",
    "        if(len(facess)==0):\n",
    "            print(\"Face not detected\")\n",
    "        else:\n",
    "            for(ex,ey,ew,eh) in facess:\n",
    "                face_roi = roi_color[ey:ey+eh, ex:ex+ew]\n",
    "    final_image = cv2.resize(face_roi, (299,299))\n",
    "    final_image = np.expand_dims(final_image, axis = 0)\n",
    "    final_image = final_image/255.0\n",
    "\n",
    "    font = cv2.FONT_HERSHEY_SIMPLEX\n",
    "\n",
    "    Predictions = new_model.predict(final_image)\n",
    "\n",
    "    font_scale = 1.5\n",
    "    font = cv2.FONT_HERSHEY_PLAIN\n",
    "\n",
    "    if (np.argmax(Predictions)==0):\n",
    "        status = \"Angry\"\n",
    "\n",
    "        x1,y1,w1,h1 = 0,0,175,75\n",
    "        cv2.rectangle(frame,(x1, x1), (x1+w1, y1+h1), (0,0,0), -1)\n",
    "        cv2.putText(frame, status, (x1 + int(w1/10), y1 + int(h1/2)), cv2.FONT_HERSHEY_SIMPLEX, 0.7, (0,0,255), 2)\n",
    "\n",
    "        cv2.putText(frame, status, (100,150), font, 3, (0,0,255), 2, cv2.LINE_4)\n",
    "\n",
    "        cv2.rectangle(frame, (x,y), (x+w, y+h), (0,0,255))\n",
    "\n",
    "    elif (np.argmax(Predictions)==1):\n",
    "        status = \"Disgust\"\n",
    "\n",
    "        x1,y1,w1,h1 = 0,0,175,75\n",
    "        cv2.rectangle(frame,(x1, x1), (x1+w1, y1+h1), (0,0,0), -1)\n",
    "        cv2.putText(frame, status, (x1 + int(w1/10), y1 + int(h1/2)), cv2.FONT_HERSHEY_SIMPLEX, 0.7, (0,0,255), 2)\n",
    "\n",
    "        cv2.putText(frame, status, (100,150), font, 3, (0,0,255), 2, cv2.LINE_4)\n",
    "\n",
    "        cv2.rectangle(frame, (x,y), (x+w, y+h), (0,0,255))\n",
    "\n",
    "    elif (np.argmax(Predictions)==2):\n",
    "        status = \"Fear\"\n",
    "\n",
    "        x1,y1,w1,h1 = 0,0,175,75\n",
    "        cv2.rectangle(frame,(x1, x1), (x1+w1, y1+h1), (0,0,0), -1)\n",
    "        cv2.putText(frame, status, (x1 + int(w1/10), y1 + int(h1/2)), cv2.FONT_HERSHEY_SIMPLEX, 0.7, (0,0,255), 2)\n",
    "\n",
    "        cv2.putText(frame, status, (100,150), font, 3, (0,0,255), 2, cv2.LINE_4)\n",
    "\n",
    "        cv2.rectangle(frame, (x,y), (x+w, y+h), (0,0,255))\n",
    "\n",
    "    elif (np.argmax(Predictions)==3):\n",
    "        status = \"Happy\"\n",
    "\n",
    "        x1,y1,w1,h1 = 0,0,175,75\n",
    "        cv2.rectangle(frame,(x1, x1), (x1+w1, y1+h1), (0,0,0), -1)\n",
    "        cv2.putText(frame, status, (x1 + int(w1/10), y1 + int(h1/2)), cv2.FONT_HERSHEY_SIMPLEX, 0.7, (0,0,255), 2)\n",
    "\n",
    "        cv2.putText(frame, status, (100,150), font, 3, (0,0,255), 2, cv2.LINE_4)\n",
    "\n",
    "        cv2.rectangle(frame, (x,y), (x+w, y+h), (0,0,255))\n",
    "\n",
    "    elif (np.argmax(Predictions)==4):\n",
    "        status = \"Neutral\"\n",
    "\n",
    "        x1,y1,w1,h1 = 0,0,175,75\n",
    "        cv2.rectangle(frame,(x1, x1), (x1+w1, y1+h1), (0,0,0), -1)\n",
    "        cv2.putText(frame, status, (x1 + int(w1/10), y1 + int(h1/2)), cv2.FONT_HERSHEY_SIMPLEX, 0.7, (0,0,255), 2)\n",
    "\n",
    "        cv2.putText(frame, status, (100,150), font, 3, (0,0,255), 2, cv2.LINE_4)\n",
    "\n",
    "        cv2.rectangle(frame, (x,y), (x+w, y+h), (0,0,255))\n",
    "\n",
    "    elif (np.argmax(Predictions)==5):\n",
    "        status = \"Sad\"\n",
    "\n",
    "        x1,y1,w1,h1 = 0,0,175,75\n",
    "        cv2.rectangle(frame,(x1, x1), (x1+w1, y1+h1), (0,0,0), -1)\n",
    "        cv2.putText(frame, status, (x1 + int(w1/10), y1 + int(h1/2)), cv2.FONT_HERSHEY_SIMPLEX, 0.7, (0,0,255), 2)\n",
    "\n",
    "        cv2.putText(frame, status, (100,150), font, 3, (0,0,255), 2, cv2.LINE_4)\n",
    "\n",
    "        cv2.rectangle(frame, (x,y), (x+w, y+h), (0,0,255))\n",
    "\n",
    "    else:\n",
    "        status = \"Surprise\"\n",
    "\n",
    "        x1,y1,w1,h1 = 0,0,175,75\n",
    "        cv2.rectangle(frame,(x1, x1), (x1+w1, y1+h1), (0,0,0), -1)\n",
    "        cv2.putText(frame, status, (x1 + int(w1/10), y1 + int(h1/2)), cv2.FONT_HERSHEY_SIMPLEX, 0.7, (0,0,255), 2)\n",
    "\n",
    "        cv2.putText(frame, status, (100,150), font, 3, (0,0,255), 2, cv2.LINE_4)\n",
    "\n",
    "        cv2.rectangle(frame, (x,y), (x+w, y+h), (0,0,255))\n",
    "\n",
    "    cv2.imshow('Face Emotion Recognition', frame)\n",
    "\n",
    "    if cv2.waitKey(2) & 0xFF == ord('q'):\n",
    "        break\n",
    "\n",
    "cap.release()\n",
    "cv2.destroyAllWindows()"
   ]
  },
  {
   "cell_type": "code",
   "execution_count": null,
   "id": "85ac638b",
   "metadata": {},
   "outputs": [],
   "source": [
    "# import numpy as np\n",
    "# import cv2 as cv\n",
    "# cap = cv.VideoCapture(0)\n",
    "# if not cap.isOpened():\n",
    "#     print(\"Cannot open camera\")\n",
    "#     exit()\n",
    "# while True:\n",
    "#     # Capture frame-by-frame\n",
    "#     ret, frame = cap.read()\n",
    "#     # if frame is read correctly ret is True\n",
    "#     if not ret:\n",
    "#         print(\"Can't receive frame (stream end?). Exiting ...\")\n",
    "#         break\n",
    "#     # Our operations on the frame come here\n",
    "#     gray = cv.cvtColor(frame, cv.COLOR_BGR2GRAY)\n",
    "#     # Display the resulting frame\n",
    "#     cv.imshow('frame', gray)\n",
    "#     if cv.waitKey(1) == ord('q'):\n",
    "#         break\n",
    "# # When everything done, release the capture\n",
    "# cap.release()\n",
    "# cv.destroyAllWindows()"
   ]
  },
  {
   "cell_type": "code",
   "execution_count": null,
   "id": "7e861a33",
   "metadata": {},
   "outputs": [],
   "source": []
  }
 ],
 "metadata": {
  "kernelspec": {
   "display_name": "Python 3",
   "language": "python",
   "name": "python3"
  },
  "language_info": {
   "codemirror_mode": {
    "name": "ipython",
    "version": 3
   },
   "file_extension": ".py",
   "mimetype": "text/x-python",
   "name": "python",
   "nbconvert_exporter": "python",
   "pygments_lexer": "ipython3",
   "version": "3.8.8"
  }
 },
 "nbformat": 4,
 "nbformat_minor": 5
}
